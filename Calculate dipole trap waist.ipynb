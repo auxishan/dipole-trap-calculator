{
 "cells": [
  {
   "cell_type": "markdown",
   "metadata": {},
   "source": [
    "# Gaussian beam waist\n",
    "\n",
    "$$ w(z) = w0*\\sqrt{1+\\left(\\frac{z}{z_R}\\right)^2} $$\n",
    "$$z_R = \\frac{\\pi w_0^2}{\\lambda}$$"
   ]
  },
  {
   "cell_type": "code",
   "execution_count": 2,
   "metadata": {
    "collapsed": false
   },
   "outputs": [
    {
     "data": {
      "text/plain": [
       "0.012553427596615752"
      ]
     },
     "execution_count": 2,
     "metadata": {},
     "output_type": "execute_result"
    }
   ],
   "source": [
    "import scipy as sp\n",
    "import matplotlib.pyplot as plt\n",
    "\n",
    "from scipy.optimize import brentq\n",
    "%matplotlib inline\n",
    "\n",
    "#Unknown w0, known z, w(z)\n",
    "\n",
    "fibre_NA = 0.12;\n",
    "collimator_focal_length = 20.1 #60FC-4-M20-15\n",
    "beam_diameter = 2 * collimator_focal_length * fibre_NA * 0.82\n",
    "\n",
    "\n",
    "# We know the beam_diameter, and the distance to the focus (focal length) -> \n",
    "# calculate waist (in mm)\n",
    "wz_diam= beam_diameter;\n",
    "z = 100;\n",
    "\n",
    "lamb = 0.000780;\n",
    "\n",
    "#The function to be made zero is f(x) = 2*w(z) -wz_diam\n",
    "waist = lambda w0:wz_diam - 2*w0*sp.sqrt(1. + (z * lamb/ (sp.pi*w0**2) )**2 )   \n",
    "\n",
    "\n",
    "beam_waist = brentq(waist,0.001,0.050)\n",
    "beam_waist\n"
   ]
  },
  {
   "cell_type": "code",
   "execution_count": 3,
   "metadata": {
    "collapsed": false
   },
   "outputs": [
    {
     "name": "stdout",
     "output_type": "stream",
     "text": [
      "3.95568\n"
     ]
    }
   ],
   "source": [
    "print(beam_diameter)\n"
   ]
  }
 ],
 "metadata": {
  "kernelspec": {
   "display_name": "Python 2",
   "language": "python",
   "name": "python2"
  },
  "language_info": {
   "codemirror_mode": {
    "name": "ipython",
    "version": 2
   },
   "file_extension": ".py",
   "mimetype": "text/x-python",
   "name": "python",
   "nbconvert_exporter": "python",
   "pygments_lexer": "ipython2",
   "version": "2.7.11"
  }
 },
 "nbformat": 4,
 "nbformat_minor": 0
}
